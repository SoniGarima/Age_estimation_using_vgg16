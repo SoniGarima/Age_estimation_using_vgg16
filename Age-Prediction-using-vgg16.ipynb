{
 "cells": [
  {
   "cell_type": "code",
   "execution_count": 1,
   "metadata": {},
   "outputs": [
    {
     "name": "stdout",
     "output_type": "stream",
     "text": [
      "23708\n"
     ]
    }
   ],
   "source": [
    "from glob import glob\n",
    "dataset_dir = 'UTKFace/'\n",
    "images = glob(dataset_dir+'*.jp*g')\n",
    "print(len(images))"
   ]
  },
  {
   "cell_type": "code",
   "execution_count": 2,
   "metadata": {},
   "outputs": [],
   "source": [
    "import tensorflow as tf\n",
    "import numpy as np"
   ]
  },
  {
   "cell_type": "code",
   "execution_count": 3,
   "metadata": {},
   "outputs": [],
   "source": [
    "IMG_WIDTH = 224\n",
    "IMG_HEIGHT = 224"
   ]
  },
  {
   "cell_type": "code",
   "execution_count": 4,
   "metadata": {},
   "outputs": [],
   "source": [
    "def decode_img_in_binary(img):\n",
    "  # convert the compressed string to a 3D uint8 tensor\n",
    "  img = tf.image.decode_jpeg(img, channels=3)\n",
    "  # Use `convert_image_dtype` to convert to floats in the [0,1] range.\n",
    "  img = tf.image.convert_image_dtype(img, tf.float32)\n",
    "  # resize the image to the desired size.\n",
    "  return tf.image.resize(img, [IMG_WIDTH, IMG_HEIGHT])"
   ]
  },
  {
   "cell_type": "code",
   "execution_count": 5,
   "metadata": {},
   "outputs": [],
   "source": [
    "def get_label(file_path):\n",
    "    Y = np.zeros((117))\n",
    "    name = file_path[8:]\n",
    "    x = name.split('_')\n",
    "    Y[int(x[0].strip())-1] = 1\n",
    "    return Y"
   ]
  },
  {
   "cell_type": "code",
   "execution_count": 6,
   "metadata": {},
   "outputs": [],
   "source": [
    "def process_path(file_path,label):\n",
    "    img = tf.io.read_file(file_path)\n",
    "    img = decode_img_in_binary(img)\n",
    "#     Y= get_label(file_path)\n",
    "    return img, label"
   ]
  },
  {
   "cell_type": "code",
   "execution_count": 7,
   "metadata": {},
   "outputs": [],
   "source": [
    "labels = []\n",
    "for img_name in images:\n",
    "    labels.append(get_label(img_name))"
   ]
  },
  {
   "cell_type": "code",
   "execution_count": 9,
   "metadata": {},
   "outputs": [
    {
     "name": "stdout",
     "output_type": "stream",
     "text": [
      "23708 23708\n"
     ]
    }
   ],
   "source": [
    "print(len(images), len(labels))"
   ]
  },
  {
   "cell_type": "code",
   "execution_count": 10,
   "metadata": {},
   "outputs": [],
   "source": [
    "train_images = images[:(2*len(images)//3)+1]\n",
    "test_images = images[(2*len(images)//3)+1:]\n",
    "train_labels = labels[:(2*len(images)//3)+1]\n",
    "test_labels = labels[(2*len(images)//3)+1:]\n"
   ]
  },
  {
   "cell_type": "code",
   "execution_count": 11,
   "metadata": {},
   "outputs": [
    {
     "name": "stdout",
     "output_type": "stream",
     "text": [
      "15806\n",
      "7902\n"
     ]
    }
   ],
   "source": [
    "print(len(train_images))\n",
    "print(len(test_images))"
   ]
  },
  {
   "cell_type": "code",
   "execution_count": 12,
   "metadata": {},
   "outputs": [],
   "source": [
    "train_dataset = tf.data.Dataset.from_tensor_slices((train_images,train_labels))\n",
    "train_dataset = train_dataset.shuffle(len(train_images))\n",
    "train_dataset =train_dataset.map(process_path, num_parallel_calls=4)\n",
    "train_dataset = train_dataset.batch(50)"
   ]
  },
  {
   "cell_type": "code",
   "execution_count": 13,
   "metadata": {},
   "outputs": [],
   "source": [
    "test_dataset = tf.data.Dataset.from_tensor_slices((test_images,test_labels))\n",
    "test_dataset = test_dataset.shuffle(len(test_images))\n",
    "test_dataset =test_dataset.map(process_path, num_parallel_calls=4)\n",
    "test_dataset = test_dataset.batch(50)"
   ]
  },
  {
   "cell_type": "markdown",
   "metadata": {},
   "source": [
    "***Model Initialization***"
   ]
  },
  {
   "cell_type": "code",
   "execution_count": 14,
   "metadata": {},
   "outputs": [
    {
     "name": "stderr",
     "output_type": "stream",
     "text": [
      "Using TensorFlow backend.\n"
     ]
    }
   ],
   "source": [
    "from keras.applications.vgg16 import VGG16\n",
    "from keras.preprocessing import image\n",
    "from keras.applications.vgg16 import preprocess_input\n",
    "import numpy as np\n",
    "from keras.models import Sequential,Model\n",
    "from keras.layers import Dense, Conv2D, Flatten\n",
    "from keras.preprocessing.image import ImageDataGenerator"
   ]
  },
  {
   "cell_type": "code",
   "execution_count": 15,
   "metadata": {},
   "outputs": [],
   "source": [
    "model = VGG16(input_shape=[224,224,3],weights='imagenet', include_top=False)\n",
    "for layer in model.layers:\n",
    "    layer.trainable=False"
   ]
  },
  {
   "cell_type": "code",
   "execution_count": 16,
   "metadata": {},
   "outputs": [
    {
     "name": "stdout",
     "output_type": "stream",
     "text": [
      "Model: \"model_1\"\n",
      "_________________________________________________________________\n",
      "Layer (type)                 Output Shape              Param #   \n",
      "=================================================================\n",
      "input_1 (InputLayer)         (None, 224, 224, 3)       0         \n",
      "_________________________________________________________________\n",
      "block1_conv1 (Conv2D)        (None, 224, 224, 64)      1792      \n",
      "_________________________________________________________________\n",
      "block1_conv2 (Conv2D)        (None, 224, 224, 64)      36928     \n",
      "_________________________________________________________________\n",
      "block1_pool (MaxPooling2D)   (None, 112, 112, 64)      0         \n",
      "_________________________________________________________________\n",
      "block2_conv1 (Conv2D)        (None, 112, 112, 128)     73856     \n",
      "_________________________________________________________________\n",
      "block2_conv2 (Conv2D)        (None, 112, 112, 128)     147584    \n",
      "_________________________________________________________________\n",
      "block2_pool (MaxPooling2D)   (None, 56, 56, 128)       0         \n",
      "_________________________________________________________________\n",
      "block3_conv1 (Conv2D)        (None, 56, 56, 256)       295168    \n",
      "_________________________________________________________________\n",
      "block3_conv2 (Conv2D)        (None, 56, 56, 256)       590080    \n",
      "_________________________________________________________________\n",
      "block3_conv3 (Conv2D)        (None, 56, 56, 256)       590080    \n",
      "_________________________________________________________________\n",
      "block3_pool (MaxPooling2D)   (None, 28, 28, 256)       0         \n",
      "_________________________________________________________________\n",
      "block4_conv1 (Conv2D)        (None, 28, 28, 512)       1180160   \n",
      "_________________________________________________________________\n",
      "block4_conv2 (Conv2D)        (None, 28, 28, 512)       2359808   \n",
      "_________________________________________________________________\n",
      "block4_conv3 (Conv2D)        (None, 28, 28, 512)       2359808   \n",
      "_________________________________________________________________\n",
      "block4_pool (MaxPooling2D)   (None, 14, 14, 512)       0         \n",
      "_________________________________________________________________\n",
      "block5_conv1 (Conv2D)        (None, 14, 14, 512)       2359808   \n",
      "_________________________________________________________________\n",
      "block5_conv2 (Conv2D)        (None, 14, 14, 512)       2359808   \n",
      "_________________________________________________________________\n",
      "block5_conv3 (Conv2D)        (None, 14, 14, 512)       2359808   \n",
      "_________________________________________________________________\n",
      "block5_pool (MaxPooling2D)   (None, 7, 7, 512)         0         \n",
      "_________________________________________________________________\n",
      "flatten_1 (Flatten)          (None, 25088)             0         \n",
      "_________________________________________________________________\n",
      "dense_1 (Dense)              (None, 512)               12845568  \n",
      "_________________________________________________________________\n",
      "dense_2 (Dense)              (None, 128)               65664     \n",
      "_________________________________________________________________\n",
      "dense_3 (Dense)              (None, 117)               15093     \n",
      "=================================================================\n",
      "Total params: 27,641,013\n",
      "Trainable params: 12,926,325\n",
      "Non-trainable params: 14,714,688\n",
      "_________________________________________________________________\n"
     ]
    }
   ],
   "source": [
    "x=Flatten()(model.output)\n",
    "x=Dense(512,activation='relu')(x)\n",
    "x=Dense(128,activation='relu')(x)\n",
    "prediction=Dense(117,activation='softmax')(x)\n",
    "final_model=Model(inputs=model.input,outputs=prediction)\n",
    "final_model.summary()"
   ]
  },
  {
   "cell_type": "code",
   "execution_count": 17,
   "metadata": {},
   "outputs": [],
   "source": [
    "import keras\n",
    "opt = keras.optimizers.RMSprop(learning_rate=0.0001, decay=1e-6)\n",
    "final_model.compile(loss='categorical_crossentropy',\n",
    "              optimizer=opt,\n",
    "              metrics=['accuracy'])"
   ]
  },
  {
   "cell_type": "code",
   "execution_count": null,
   "metadata": {},
   "outputs": [
    {
     "name": "stdout",
     "output_type": "stream",
     "text": [
      "Epoch 1/2\n",
      "50/50 [==============================] - 10s 205ms/step - loss: 4.9270 - accuracy: 0.0600\n",
      "Epoch 2/2\n",
      "50/50 [==============================] - 10s 208ms/step - loss: 4.0956 - accuracy: 0.1000\n",
      "Epoch 1/2\n",
      "50/50 [==============================] - 10s 209ms/step - loss: 4.5217 - accuracy: 0.1000\n",
      "Epoch 2/2\n",
      "50/50 [==============================] - 10s 210ms/step - loss: 3.7372 - accuracy: 0.1200\n",
      "Epoch 1/2\n",
      "50/50 [==============================] - 11s 211ms/step - loss: 4.4920 - accuracy: 0.1400\n",
      "Epoch 2/2\n",
      "50/50 [==============================] - 10s 207ms/step - loss: 3.7716 - accuracy: 0.1800\n",
      "Epoch 1/2\n",
      "50/50 [==============================] - 10s 209ms/step - loss: 4.5368 - accuracy: 0.1200\n",
      "Epoch 2/2\n",
      "50/50 [==============================] - 10s 207ms/step - loss: 3.9342 - accuracy: 0.1600\n",
      "Epoch 1/2\n",
      "50/50 [==============================] - 10s 209ms/step - loss: 4.3078 - accuracy: 0.0800\n",
      "Epoch 2/2\n",
      "50/50 [==============================] - 11s 221ms/step - loss: 3.6224 - accuracy: 0.1800\n",
      "Epoch 1/2\n",
      "50/50 [==============================] - 11s 230ms/step - loss: 4.2555 - accuracy: 0.1200\n",
      "Epoch 2/2\n",
      "50/50 [==============================] - 11s 218ms/step - loss: 3.8697 - accuracy: 0.1600\n",
      "Epoch 1/2\n",
      "50/50 [==============================] - 11s 215ms/step - loss: 4.2834 - accuracy: 0.1400\n",
      "Epoch 2/2\n",
      "50/50 [==============================] - 11s 212ms/step - loss: 3.6689 - accuracy: 0.2400\n",
      "Epoch 1/2\n",
      "50/50 [==============================] - 11s 218ms/step - loss: 4.5069 - accuracy: 0.1200\n",
      "Epoch 2/2\n",
      "50/50 [==============================] - 11s 214ms/step - loss: 3.9048 - accuracy: 0.1400\n",
      "Epoch 1/2\n",
      "50/50 [==============================] - 11s 211ms/step - loss: 4.5900 - accuracy: 0.1200\n",
      "Epoch 2/2\n",
      "50/50 [==============================] - 11s 211ms/step - loss: 4.0832 - accuracy: 0.1800\n",
      "Epoch 1/2\n",
      "50/50 [==============================] - 10s 209ms/step - loss: 4.0700 - accuracy: 0.1800\n",
      "Epoch 2/2\n",
      "50/50 [==============================] - 10s 209ms/step - loss: 3.6381 - accuracy: 0.2400\n",
      "Epoch 1/2\n",
      "50/50 [==============================] - 10s 210ms/step - loss: 4.2160 - accuracy: 0.1000\n",
      "Epoch 2/2\n",
      "50/50 [==============================] - 10s 208ms/step - loss: 3.7457 - accuracy: 0.1400\n",
      "Epoch 1/2\n",
      "50/50 [==============================] - 10s 209ms/step - loss: 4.5326 - accuracy: 0.0800\n",
      "Epoch 2/2\n",
      "50/50 [==============================] - 11s 211ms/step - loss: 3.9276 - accuracy: 0.1600\n",
      "Epoch 1/2\n",
      "50/50 [==============================] - 11s 211ms/step - loss: 4.3598 - accuracy: 0.0400\n",
      "Epoch 2/2\n",
      "50/50 [==============================] - 11s 223ms/step - loss: 3.7190 - accuracy: 0.1800\n",
      "Epoch 1/2\n",
      "50/50 [==============================] - 11s 214ms/step - loss: 4.4175 - accuracy: 0.0800\n",
      "Epoch 2/2\n",
      "50/50 [==============================] - 11s 216ms/step - loss: 3.8809 - accuracy: 0.1600\n",
      "Epoch 1/2\n",
      "50/50 [==============================] - 11s 225ms/step - loss: 4.8135 - accuracy: 0.0600\n",
      "Epoch 2/2\n",
      "50/50 [==============================] - 12s 237ms/step - loss: 4.1492 - accuracy: 0.1000\n",
      "Epoch 1/2\n",
      "50/50 [==============================] - 11s 224ms/step - loss: 4.3473 - accuracy: 0.1000\n",
      "Epoch 2/2\n",
      "50/50 [==============================] - 11s 230ms/step - loss: 3.8035 - accuracy: 0.1600\n",
      "Epoch 1/2\n",
      "50/50 [==============================] - 11s 211ms/step - loss: 4.1496 - accuracy: 0.1000\n",
      "Epoch 2/2\n",
      "50/50 [==============================] - 11s 216ms/step - loss: 3.6610 - accuracy: 0.1200\n",
      "Epoch 1/2\n",
      "50/50 [==============================] - 11s 227ms/step - loss: 4.2308 - accuracy: 0.0800\n",
      "Epoch 2/2\n",
      "50/50 [==============================] - 11s 213ms/step - loss: 3.7047 - accuracy: 0.1600\n",
      "Epoch 1/2\n",
      "50/50 [==============================] - 11s 213ms/step - loss: 4.5286 - accuracy: 0.1200\n",
      "Epoch 2/2\n",
      "50/50 [==============================] - 11s 218ms/step - loss: 3.9923 - accuracy: 0.1800\n",
      "Epoch 1/2\n",
      "50/50 [==============================] - 10s 208ms/step - loss: 4.3491 - accuracy: 0.0800\n",
      "Epoch 2/2\n",
      "50/50 [==============================] - 11s 223ms/step - loss: 3.9113 - accuracy: 0.1000\n",
      "Epoch 1/2\n",
      "50/50 [==============================] - 11s 210ms/step - loss: 4.2450 - accuracy: 0.0800\n",
      "Epoch 2/2\n",
      "50/50 [==============================] - 11s 212ms/step - loss: 3.7469 - accuracy: 0.1800\n",
      "Epoch 1/2\n",
      "50/50 [==============================] - 11s 219ms/step - loss: 4.0742 - accuracy: 0.0800\n",
      "Epoch 2/2\n",
      "50/50 [==============================] - 11s 215ms/step - loss: 3.6397 - accuracy: 0.1600\n",
      "Epoch 1/2\n",
      "50/50 [==============================] - 11s 219ms/step - loss: 4.4513 - accuracy: 0.0400\n",
      "Epoch 2/2\n",
      "50/50 [==============================] - 11s 221ms/step - loss: 3.9385 - accuracy: 0.0800\n",
      "Epoch 1/2\n",
      "50/50 [==============================] - 11s 226ms/step - loss: 4.2152 - accuracy: 0.0800\n",
      "Epoch 2/2\n",
      "50/50 [==============================] - 10s 208ms/step - loss: 3.7320 - accuracy: 0.2200\n",
      "Epoch 1/2\n",
      "50/50 [==============================] - 11s 220ms/step - loss: 4.1508 - accuracy: 0.1200\n",
      "Epoch 2/2\n",
      "50/50 [==============================] - 11s 225ms/step - loss: 3.5637 - accuracy: 0.2000\n",
      "Epoch 1/2\n",
      "50/50 [==============================] - 11s 211ms/step - loss: 4.5505 - accuracy: 0.0600\n",
      "Epoch 2/2\n",
      "50/50 [==============================] - 11s 215ms/step - loss: 3.8700 - accuracy: 0.1400\n",
      "Epoch 1/2\n",
      "50/50 [==============================] - 11s 220ms/step - loss: 4.1137 - accuracy: 0.0800\n",
      "Epoch 2/2\n",
      "50/50 [==============================] - 11s 213ms/step - loss: 3.6769 - accuracy: 0.2200\n",
      "Epoch 1/2\n",
      "50/50 [==============================] - 11s 212ms/step - loss: 4.1796 - accuracy: 0.1000\n",
      "Epoch 2/2\n",
      "50/50 [==============================] - 11s 219ms/step - loss: 3.5597 - accuracy: 0.1600\n",
      "Epoch 1/2\n",
      "50/50 [==============================] - 11s 218ms/step - loss: 4.5459 - accuracy: 0.0600\n",
      "Epoch 2/2\n",
      "50/50 [==============================] - 11s 213ms/step - loss: 3.9961 - accuracy: 0.1200\n",
      "Epoch 1/2\n",
      "50/50 [==============================] - 11s 217ms/step - loss: 4.0447 - accuracy: 0.1600\n",
      "Epoch 2/2\n",
      "50/50 [==============================] - 11s 215ms/step - loss: 3.5439 - accuracy: 0.1600\n",
      "Epoch 1/2\n",
      "50/50 [==============================] - 11s 221ms/step - loss: 4.0494 - accuracy: 0.2400\n",
      "Epoch 2/2\n",
      "50/50 [==============================] - 11s 214ms/step - loss: 3.4879 - accuracy: 0.2600\n",
      "Epoch 1/2\n",
      "50/50 [==============================] - 11s 220ms/step - loss: 4.4652 - accuracy: 0.0800\n",
      "Epoch 2/2\n",
      "50/50 [==============================] - 11s 215ms/step - loss: 3.9700 - accuracy: 0.1600\n",
      "Epoch 1/2\n",
      "50/50 [==============================] - 11s 228ms/step - loss: 4.1979 - accuracy: 0.0800\n",
      "Epoch 2/2\n",
      "50/50 [==============================] - 12s 231ms/step - loss: 3.6682 - accuracy: 0.1600\n",
      "Epoch 1/2\n",
      "50/50 [==============================] - 11s 220ms/step - loss: 4.0034 - accuracy: 0.0600\n",
      "Epoch 2/2\n",
      "50/50 [==============================] - 11s 227ms/step - loss: 3.5925 - accuracy: 0.1000\n",
      "Epoch 1/2\n",
      "50/50 [==============================] - 12s 243ms/step - loss: 4.2971 - accuracy: 0.1000\n",
      "Epoch 2/2\n",
      "50/50 [==============================] - 11s 218ms/step - loss: 3.6019 - accuracy: 0.1400\n",
      "Epoch 1/2\n",
      "50/50 [==============================] - 11s 211ms/step - loss: 3.9344 - accuracy: 0.1400\n",
      "Epoch 2/2\n",
      "50/50 [==============================] - 11s 218ms/step - loss: 3.3137 - accuracy: 0.1600\n",
      "Epoch 1/2\n",
      "50/50 [==============================] - 11s 215ms/step - loss: 4.3536 - accuracy: 0.0600\n",
      "Epoch 2/2\n",
      "50/50 [==============================] - 10s 208ms/step - loss: 3.7266 - accuracy: 0.1400\n",
      "Epoch 1/2\n",
      "50/50 [==============================] - 12s 236ms/step - loss: 3.8757 - accuracy: 0.1600\n",
      "Epoch 2/2\n",
      "50/50 [==============================] - 11s 224ms/step - loss: 3.4362 - accuracy: 0.3000\n",
      "Epoch 1/2\n",
      "50/50 [==============================] - 11s 216ms/step - loss: 4.0184 - accuracy: 0.1000\n",
      "Epoch 2/2\n",
      "50/50 [==============================] - 11s 223ms/step - loss: 3.5011 - accuracy: 0.1800\n",
      "Epoch 1/2\n",
      "50/50 [==============================] - 11s 211ms/step - loss: 4.2853 - accuracy: 0.0800\n",
      "Epoch 2/2\n",
      "50/50 [==============================] - 10s 206ms/step - loss: 3.7439 - accuracy: 0.1400\n",
      "Epoch 1/2\n",
      "50/50 [==============================] - 10s 208ms/step - loss: 4.2393 - accuracy: 0.1000\n",
      "Epoch 2/2\n",
      "50/50 [==============================] - 11s 210ms/step - loss: 3.7007 - accuracy: 0.1800\n"
     ]
    },
    {
     "name": "stdout",
     "output_type": "stream",
     "text": [
      "Epoch 1/2\n",
      "50/50 [==============================] - 10s 207ms/step - loss: 4.1597 - accuracy: 0.0400\n",
      "Epoch 2/2\n",
      "50/50 [==============================] - 11s 222ms/step - loss: 3.7048 - accuracy: 0.1400\n",
      "Epoch 1/2\n",
      "50/50 [==============================] - 11s 214ms/step - loss: 3.8291 - accuracy: 0.1200\n",
      "Epoch 2/2\n",
      "50/50 [==============================] - 11s 221ms/step - loss: 3.3545 - accuracy: 0.2200\n",
      "Epoch 1/2\n",
      "50/50 [==============================] - 11s 218ms/step - loss: 4.4711 - accuracy: 0.1000\n",
      "Epoch 2/2\n",
      "50/50 [==============================] - 11s 215ms/step - loss: 3.8381 - accuracy: 0.1400\n",
      "Epoch 1/2\n",
      "50/50 [==============================] - 11s 223ms/step - loss: 4.1351 - accuracy: 0.1600\n",
      "Epoch 2/2\n"
     ]
    }
   ],
   "source": [
    "for image,label in train_dataset:\n",
    "    final_model.fit(image.numpy(),label.numpy(),epochs=2)"
   ]
  },
  {
   "cell_type": "code",
   "execution_count": 14,
   "metadata": {},
   "outputs": [
    {
     "name": "stdout",
     "output_type": "stream",
     "text": [
      "100/100 [==============================] - 21s 205ms/step\n"
     ]
    }
   ],
   "source": [
    "for img, lab in dataset:\n",
    "    final_model.evaluate(img.numpy(),lab.numpy())"
   ]
  }
 ],
 "metadata": {
  "kernelspec": {
   "display_name": "Python 3",
   "language": "python",
   "name": "python3"
  },
  "language_info": {
   "codemirror_mode": {
    "name": "ipython",
    "version": 3
   },
   "file_extension": ".py",
   "mimetype": "text/x-python",
   "name": "python",
   "nbconvert_exporter": "python",
   "pygments_lexer": "ipython3",
   "version": "3.7.4"
  }
 },
 "nbformat": 4,
 "nbformat_minor": 2
}
